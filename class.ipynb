{
 "cells": [
  {
   "cell_type": "code",
   "execution_count": 19,
   "id": "d5be7f74",
   "metadata": {},
   "outputs": [],
   "source": [
    "class Name():\n",
    "    def __init__(self,arg):\n",
    "        self.arg=arg"
   ]
  },
  {
   "cell_type": "code",
   "execution_count": 21,
   "id": "b9ecf434",
   "metadata": {},
   "outputs": [
    {
     "data": {
      "text/plain": [
       "'hello'"
      ]
     },
     "execution_count": 21,
     "metadata": {},
     "output_type": "execute_result"
    }
   ],
   "source": [
    "x=Name('hello')\n",
    "x.arg"
   ]
  },
  {
   "cell_type": "code",
   "execution_count": 22,
   "id": "0b9aeea1",
   "metadata": {},
   "outputs": [
    {
     "name": "stdout",
     "output_type": "stream",
     "text": [
      "<class '__main__.Name'>\n"
     ]
    }
   ],
   "source": [
    "print(type(x))"
   ]
  },
  {
   "cell_type": "code",
   "execution_count": 34,
   "id": "6074f72c",
   "metadata": {},
   "outputs": [],
   "source": [
    "class Xerox():\n",
    "    def __init__(self,arg):\n",
    "        Xerox.name=arg\n",
    "    def disp(self):\n",
    "        print(Xerox.name)"
   ]
  },
  {
   "cell_type": "code",
   "execution_count": 35,
   "id": "de4caf54",
   "metadata": {},
   "outputs": [
    {
     "name": "stdout",
     "output_type": "stream",
     "text": [
      "gajanan\n"
     ]
    }
   ],
   "source": [
    "x=Xerox('gajanan')\n",
    "x.disp()"
   ]
  },
  {
   "cell_type": "code",
   "execution_count": 38,
   "id": "015265bf",
   "metadata": {},
   "outputs": [],
   "source": [
    "class Main():\n",
    "    def __init__(self,arg1):\n",
    "        self.name=arg1"
   ]
  },
  {
   "cell_type": "code",
   "execution_count": 45,
   "id": "ecb8046f",
   "metadata": {},
   "outputs": [],
   "source": [
    "class Sub(Main):\n",
    "    def __init__(self,arg1):\n",
    "        Main.__init__(self,arg1)\n",
    "    def disp(self):\n",
    "        print(self.name)\n",
    "        "
   ]
  },
  {
   "cell_type": "code",
   "execution_count": 46,
   "id": "2e6a1249",
   "metadata": {},
   "outputs": [
    {
     "name": "stdout",
     "output_type": "stream",
     "text": [
      "John\n"
     ]
    }
   ],
   "source": [
    "x=Sub('John')\n",
    "x.disp()"
   ]
  },
  {
   "cell_type": "code",
   "execution_count": 51,
   "id": "885adc44",
   "metadata": {},
   "outputs": [],
   "source": [
    "class Poly1():\n",
    "#     def __init__(self,n):\n",
    "#         self.name=n\n",
    "    def disp(self):\n",
    "        Print('Poly1')"
   ]
  },
  {
   "cell_type": "code",
   "execution_count": 52,
   "id": "a4c1193e",
   "metadata": {},
   "outputs": [],
   "source": [
    "class Poly2(Poly1):\n",
    "    def disp(self):\n",
    "        print('Poly2')"
   ]
  },
  {
   "cell_type": "code",
   "execution_count": 53,
   "id": "3d2042ab",
   "metadata": {},
   "outputs": [
    {
     "name": "stdout",
     "output_type": "stream",
     "text": [
      "Poly2\n"
     ]
    }
   ],
   "source": [
    "x=Poly2()\n",
    "x.disp()"
   ]
  },
  {
   "cell_type": "code",
   "execution_count": 94,
   "id": "f43171c8",
   "metadata": {},
   "outputs": [],
   "source": [
    "# Special functions for class\n",
    "class Special():\n",
    "    def __init__(self,a,b,c):\n",
    "        self.fname=a\n",
    "        self.lname=b\n",
    "        self.age=c\n",
    "    def __str__(self):\n",
    "        return f'The name is {self.fname} {self.lname} and age is {self.age}'\n",
    "    def __len__(self):\n",
    "        return 3\n",
    "    def __del__(self):\n",
    "        print(\"The object deleted\")"
   ]
  },
  {
   "cell_type": "code",
   "execution_count": 95,
   "id": "692ea16a",
   "metadata": {},
   "outputs": [
    {
     "name": "stdout",
     "output_type": "stream",
     "text": [
      "The name is john cena and age is 32\n"
     ]
    }
   ],
   "source": [
    "x=Special('john','cena',32)\n",
    "# print(del x)\n",
    "# del x\n",
    "print(x)"
   ]
  },
  {
   "cell_type": "code",
   "execution_count": 96,
   "id": "bd37b17d",
   "metadata": {},
   "outputs": [
    {
     "data": {
      "text/plain": [
       "<__main__.Special at 0x1450ca17220>"
      ]
     },
     "execution_count": 96,
     "metadata": {},
     "output_type": "execute_result"
    }
   ],
   "source": [
    "x"
   ]
  },
  {
   "cell_type": "code",
   "execution_count": 97,
   "id": "4772cfff",
   "metadata": {},
   "outputs": [],
   "source": [
    "del x"
   ]
  },
  {
   "cell_type": "code",
   "execution_count": 98,
   "id": "19e7e373",
   "metadata": {},
   "outputs": [
    {
     "ename": "NameError",
     "evalue": "name 'x' is not defined",
     "output_type": "error",
     "traceback": [
      "\u001b[1;31m---------------------------------------------------------------------------\u001b[0m",
      "\u001b[1;31mNameError\u001b[0m                                 Traceback (most recent call last)",
      "Input \u001b[1;32mIn [98]\u001b[0m, in \u001b[0;36m<cell line: 1>\u001b[1;34m()\u001b[0m\n\u001b[1;32m----> 1\u001b[0m \u001b[43mx\u001b[49m\n",
      "\u001b[1;31mNameError\u001b[0m: name 'x' is not defined"
     ]
    }
   ],
   "source": [
    "x"
   ]
  },
  {
   "cell_type": "code",
   "execution_count": null,
   "id": "adebe49b",
   "metadata": {},
   "outputs": [],
   "source": []
  }
 ],
 "metadata": {
  "kernelspec": {
   "display_name": "Python 3 (ipykernel)",
   "language": "python",
   "name": "python3"
  },
  "language_info": {
   "codemirror_mode": {
    "name": "ipython",
    "version": 3
   },
   "file_extension": ".py",
   "mimetype": "text/x-python",
   "name": "python",
   "nbconvert_exporter": "python",
   "pygments_lexer": "ipython3",
   "version": "3.9.12"
  }
 },
 "nbformat": 4,
 "nbformat_minor": 5
}
