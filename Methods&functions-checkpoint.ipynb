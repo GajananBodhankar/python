{
 "cells": [
  {
   "cell_type": "code",
   "execution_count": 5,
   "id": "7ce221f6",
   "metadata": {},
   "outputs": [],
   "source": [
    "import math\n",
    "def vol(rad):\n",
    "    pie=3.1432\n",
    "    print((4/3)*pie*(rad**3))"
   ]
  },
  {
   "cell_type": "code",
   "execution_count": 6,
   "id": "4ae30797",
   "metadata": {},
   "outputs": [
    {
     "name": "stdout",
     "output_type": "stream",
     "text": [
      "33.52746666666667\n"
     ]
    }
   ],
   "source": [
    "vol(2)"
   ]
  },
  {
   "cell_type": "code",
   "execution_count": 18,
   "id": "d8d3a09f",
   "metadata": {},
   "outputs": [],
   "source": [
    "def ran_check(num,low,high):\n",
    "    count=0\n",
    "    for i in range(low,high):\n",
    "        if(i==num):\n",
    "#             print('{} is in range of {},{}'.format(num,low,high))\n",
    "            print(True)\n",
    "            count+=1\n",
    "            break\n",
    "    if(count==0):\n",
    "        print(False)\n",
    "#         print('{} is not in range {},{}'.format(num,low,high))"
   ]
  },
  {
   "cell_type": "code",
   "execution_count": 19,
   "id": "261e432b",
   "metadata": {},
   "outputs": [
    {
     "name": "stdout",
     "output_type": "stream",
     "text": [
      "True\n"
     ]
    }
   ],
   "source": [
    "ran_check(5,2,7)"
   ]
  },
  {
   "cell_type": "code",
   "execution_count": 20,
   "id": "730ac63c",
   "metadata": {},
   "outputs": [
    {
     "name": "stdout",
     "output_type": "stream",
     "text": [
      "False\n"
     ]
    }
   ],
   "source": [
    "ran_check(10,2,7)"
   ]
  },
  {
   "cell_type": "raw",
   "id": "bcc23f21",
   "metadata": {},
   "source": []
  },
  {
   "cell_type": "code",
   "execution_count": 25,
   "id": "714304e4",
   "metadata": {},
   "outputs": [
    {
     "name": "stdout",
     "output_type": "stream",
     "text": [
      "Enter a string :Hello Mr. Rogers, how are you this fine Tuesday?\n"
     ]
    }
   ],
   "source": [
    "str=input(\"Enter a string :\")"
   ]
  },
  {
   "cell_type": "raw",
   "id": "aadde56e",
   "metadata": {},
   "source": []
  },
  {
   "cell_type": "code",
   "execution_count": 28,
   "id": "26c51654",
   "metadata": {},
   "outputs": [
    {
     "name": "stdout",
     "output_type": "stream",
     "text": [
      "33 4\n"
     ]
    }
   ],
   "source": [
    "l_count=0\n",
    "u_count=0\n",
    "for i in str:\n",
    "    if(i.islower()):\n",
    "        l_count+=1\n",
    "    elif(i.isupper()):\n",
    "        u_count+=1\n",
    "print(l_count,u_count)"
   ]
  },
  {
   "cell_type": "code",
   "execution_count": 31,
   "id": "84329507",
   "metadata": {},
   "outputs": [],
   "source": [
    "def unique_list(lst):\n",
    "    tem=set(lst)\n",
    "    print(list(tem))"
   ]
  },
  {
   "cell_type": "code",
   "execution_count": 32,
   "id": "e42e3bf6",
   "metadata": {},
   "outputs": [
    {
     "name": "stdout",
     "output_type": "stream",
     "text": [
      "[1, 2, 3]\n"
     ]
    }
   ],
   "source": [
    "unique_list([1,2,2,3,3])"
   ]
  },
  {
   "cell_type": "code",
   "execution_count": 67,
   "id": "e3a033ff",
   "metadata": {},
   "outputs": [],
   "source": [
    "def palindrome(s):\n",
    "    count=len(s)-1\n",
    "    flag=False\n",
    "    for i in range(len(s)//2):\n",
    "        if(s[i]==s[count]):\n",
    "            count-=1\n",
    "        else:\n",
    "            flag=True\n",
    "            break\n",
    "    if(flag==True):\n",
    "        print(\"Not Palindrome\")\n",
    "    else:\n",
    "        print('Palindrome')"
   ]
  },
  {
   "cell_type": "raw",
   "id": "bce43e92",
   "metadata": {},
   "source": []
  },
  {
   "cell_type": "code",
   "execution_count": 68,
   "id": "6c27138e",
   "metadata": {},
   "outputs": [
    {
     "name": "stdout",
     "output_type": "stream",
     "text": [
      "Palindrome\n"
     ]
    }
   ],
   "source": [
    "palindrome('helleh')"
   ]
  },
  {
   "cell_type": "code",
   "execution_count": 69,
   "id": "44ae6e0f",
   "metadata": {},
   "outputs": [
    {
     "name": "stdout",
     "output_type": "stream",
     "text": [
      "Not Palindrome\n"
     ]
    }
   ],
   "source": [
    "palindrome('helloh')"
   ]
  },
  {
   "cell_type": "code",
   "execution_count": 3,
   "id": "d55184fb",
   "metadata": {},
   "outputs": [
    {
     "name": "stdout",
     "output_type": "stream",
     "text": [
      "[1, 2]\n"
     ]
    }
   ],
   "source": [
    "l=[1,2,3]\n",
    "l.remove(3)\n",
    "print(l)"
   ]
  },
  {
   "cell_type": "code",
   "execution_count": 4,
   "id": "9389f0c2",
   "metadata": {},
   "outputs": [
    {
     "name": "stdout",
     "output_type": "stream",
     "text": [
      "Enter Two numbers and give space between:10 20\n"
     ]
    }
   ],
   "source": [
    "x=input('Enter Two numbers and give space between:')"
   ]
  },
  {
   "cell_type": "code",
   "execution_count": 11,
   "id": "068125b3",
   "metadata": {},
   "outputs": [
    {
     "name": "stdout",
     "output_type": "stream",
     "text": [
      "<class 'str'>\n",
      "30\n"
     ]
    }
   ],
   "source": [
    "num1=x.split(' ')[0]\n",
    "num2=x.split(' ')[1]\n",
    "print(type(num1))\n",
    "print(int(num1)+int(num2))"
   ]
  },
  {
   "cell_type": "code",
   "execution_count": 17,
   "id": "3f99b6ab",
   "metadata": {},
   "outputs": [],
   "source": [
    "def employee_check(data):\n",
    "    count=0\n",
    "    name=''\n",
    "    for employee,hrs in data:\n",
    "        if hrs>count:\n",
    "            count=hrs\n",
    "            name=employee\n",
    "#     print(\"Employee of month is {}\".format(name))\n",
    "    return (name,count)"
   ]
  },
  {
   "cell_type": "code",
   "execution_count": 20,
   "id": "660d8708",
   "metadata": {},
   "outputs": [],
   "source": [
    "result=employee_check([('max',100),('john',50),('Emiley',300)])"
   ]
  },
  {
   "cell_type": "code",
   "execution_count": 21,
   "id": "1555ec16",
   "metadata": {},
   "outputs": [
    {
     "data": {
      "text/plain": [
       "('Emiley', 300)"
      ]
     },
     "execution_count": 21,
     "metadata": {},
     "output_type": "execute_result"
    }
   ],
   "source": [
    "result"
   ]
  },
  {
   "cell_type": "code",
   "execution_count": 22,
   "id": "8c0eac44",
   "metadata": {},
   "outputs": [],
   "source": [
    "x,y=employee_check([('max',100),('john',50),('Emiley',300)])"
   ]
  },
  {
   "cell_type": "code",
   "execution_count": 23,
   "id": "4eae3025",
   "metadata": {},
   "outputs": [
    {
     "data": {
      "text/plain": [
       "('Emiley', 300)"
      ]
     },
     "execution_count": 23,
     "metadata": {},
     "output_type": "execute_result"
    }
   ],
   "source": [
    "x,y"
   ]
  },
  {
   "cell_type": "code",
   "execution_count": 24,
   "id": "18f8e340",
   "metadata": {},
   "outputs": [],
   "source": [
    "def check():\n",
    "    number=''\n",
    "    while number not in ['0','1','2','3','4','5','6','7','8','9','10']:\n",
    "        number=input('Pick a number from 0-10 :')\n",
    "    return number"
   ]
  },
  {
   "cell_type": "code",
   "execution_count": 25,
   "id": "b765f7ea",
   "metadata": {},
   "outputs": [
    {
     "name": "stdout",
     "output_type": "stream",
     "text": [
      "Pick a number from 0-10 :11\n",
      "Pick a number from 0-10 :5\n"
     ]
    },
    {
     "data": {
      "text/plain": [
       "'5'"
      ]
     },
     "execution_count": 25,
     "metadata": {},
     "output_type": "execute_result"
    }
   ],
   "source": [
    "check()"
   ]
  },
  {
   "cell_type": "code",
   "execution_count": 27,
   "id": "2f273d48",
   "metadata": {},
   "outputs": [
    {
     "name": "stdout",
     "output_type": "stream",
     "text": [
      "10\n"
     ]
    }
   ],
   "source": [
    "st='10'\n",
    "print(int(st))"
   ]
  },
  {
   "cell_type": "code",
   "execution_count": 33,
   "id": "2ad84237",
   "metadata": {},
   "outputs": [],
   "source": [
    "def rest_func(*args):\n",
    "    '''\n",
    "    Gives the output in the form of tuple\n",
    "    '''\n",
    "    print(args)"
   ]
  },
  {
   "cell_type": "code",
   "execution_count": 34,
   "id": "5e1fd238",
   "metadata": {},
   "outputs": [
    {
     "name": "stdout",
     "output_type": "stream",
     "text": [
      "(10, 20, 30)\n"
     ]
    }
   ],
   "source": [
    "rest_func(10,20,30)"
   ]
  },
  {
   "cell_type": "code",
   "execution_count": 1,
   "id": "d2cc903c",
   "metadata": {},
   "outputs": [],
   "source": [
    "def kwargs(**args):\n",
    "    print(args)"
   ]
  },
  {
   "cell_type": "code",
   "execution_count": 2,
   "id": "e5bb3eae",
   "metadata": {},
   "outputs": [
    {
     "name": "stdout",
     "output_type": "stream",
     "text": [
      "{'name': 'john', 'age': 53}\n"
     ]
    }
   ],
   "source": [
    "kwargs(name='john',age=53)"
   ]
  },
  {
   "cell_type": "code",
   "execution_count": 3,
   "id": "5a2be4b1",
   "metadata": {},
   "outputs": [],
   "source": [
    "def lesser_of_two_evens(a,b):\n",
    "    if(a%2==0 and b%2==0):\n",
    "        if(a>b):\n",
    "            return b\n",
    "        else:\n",
    "            return a\n",
    "    else:\n",
    "        if(a>b):\n",
    "            return a\n",
    "        else:\n",
    "            return b"
   ]
  },
  {
   "cell_type": "code",
   "execution_count": 4,
   "id": "db3e78d6",
   "metadata": {},
   "outputs": [
    {
     "data": {
      "text/plain": [
       "5"
      ]
     },
     "execution_count": 4,
     "metadata": {},
     "output_type": "execute_result"
    }
   ],
   "source": [
    "lesser_of_two_evens(2,5)"
   ]
  },
  {
   "cell_type": "code",
   "execution_count": 5,
   "id": "7086b579",
   "metadata": {},
   "outputs": [
    {
     "data": {
      "text/plain": [
       "2"
      ]
     },
     "execution_count": 5,
     "metadata": {},
     "output_type": "execute_result"
    }
   ],
   "source": [
    "lesser_of_two_evens(2,4)"
   ]
  },
  {
   "cell_type": "code",
   "execution_count": 10,
   "id": "a2640ac4",
   "metadata": {},
   "outputs": [],
   "source": [
    "def animal_crackers(text):\n",
    "    split=text.split(' ')\n",
    "    if split[0][0]==split[1][0]:\n",
    "        return True\n",
    "    else:\n",
    "        return False"
   ]
  },
  {
   "cell_type": "code",
   "execution_count": 11,
   "id": "dec7067f",
   "metadata": {},
   "outputs": [
    {
     "data": {
      "text/plain": [
       "True"
      ]
     },
     "execution_count": 11,
     "metadata": {},
     "output_type": "execute_result"
    }
   ],
   "source": [
    "animal_crackers('Levelheaded Llama')"
   ]
  },
  {
   "cell_type": "code",
   "execution_count": 26,
   "id": "8f2b1b38",
   "metadata": {},
   "outputs": [],
   "source": [
    "def old_macdonald(name):\n",
    "    return name[0:3]+name[3].upper()+name[4:]"
   ]
  },
  {
   "cell_type": "code",
   "execution_count": 27,
   "id": "779e9697",
   "metadata": {},
   "outputs": [
    {
     "data": {
      "text/plain": [
       "'macDonald'"
      ]
     },
     "execution_count": 27,
     "metadata": {},
     "output_type": "execute_result"
    }
   ],
   "source": [
    "old_macdonald('macdonald')"
   ]
  },
  {
   "cell_type": "code",
   "execution_count": 43,
   "id": "270f12a5",
   "metadata": {},
   "outputs": [],
   "source": [
    "def master_yoda(text):\n",
    "    split=text.split(' ')\n",
    "    split.reverse()\n",
    "    print(' '.join(split))"
   ]
  },
  {
   "cell_type": "code",
   "execution_count": 44,
   "id": "12069839",
   "metadata": {},
   "outputs": [
    {
     "name": "stdout",
     "output_type": "stream",
     "text": [
      "home am I\n"
     ]
    }
   ],
   "source": [
    "master_yoda('I am home') "
   ]
  },
  {
   "cell_type": "code",
   "execution_count": 45,
   "id": "c4392f61",
   "metadata": {},
   "outputs": [],
   "source": [
    "def almost_there(n):\n",
    "    return n in range(90,111) or n in range(190,211)"
   ]
  },
  {
   "cell_type": "code",
   "execution_count": 46,
   "id": "fb8216ce",
   "metadata": {},
   "outputs": [
    {
     "data": {
      "text/plain": [
       "False"
      ]
     },
     "execution_count": 46,
     "metadata": {},
     "output_type": "execute_result"
    }
   ],
   "source": [
    "almost_there(111)"
   ]
  },
  {
   "cell_type": "code",
   "execution_count": null,
   "id": "7fad8cc2",
   "metadata": {},
   "outputs": [],
   "source": [
    "def has_33(nums):\n",
    "#     for i in range(len(nums)):\n",
    "        print(len(nums))"
   ]
  },
  {
   "cell_type": "code",
   "execution_count": null,
   "id": "bb3889aa",
   "metadata": {},
   "outputs": [],
   "source": [
    "has_33([1, 3, 3])"
   ]
  },
  {
   "cell_type": "code",
   "execution_count": null,
   "id": "8a0d61af",
   "metadata": {},
   "outputs": [],
   "source": []
  }
 ],
 "metadata": {
  "kernelspec": {
   "display_name": "Python 3 (ipykernel)",
   "language": "python",
   "name": "python3"
  },
  "language_info": {
   "codemirror_mode": {
    "name": "ipython",
    "version": 3
   },
   "file_extension": ".py",
   "mimetype": "text/x-python",
   "name": "python",
   "nbconvert_exporter": "python",
   "pygments_lexer": "ipython3",
   "version": "3.9.12"
  }
 },
 "nbformat": 4,
 "nbformat_minor": 5
}
