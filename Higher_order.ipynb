{
 "cells": [
  {
   "cell_type": "code",
   "execution_count": 1,
   "id": "29756271",
   "metadata": {},
   "outputs": [],
   "source": [
    "x=list([10,20,30])"
   ]
  },
  {
   "cell_type": "code",
   "execution_count": 11,
   "id": "37fe4789",
   "metadata": {},
   "outputs": [],
   "source": [
    "def square(num):\n",
    "    return num**2"
   ]
  },
  {
   "cell_type": "code",
   "execution_count": 12,
   "id": "aa48197a",
   "metadata": {},
   "outputs": [
    {
     "data": {
      "text/plain": [
       "[100, 400, 900]"
      ]
     },
     "execution_count": 12,
     "metadata": {},
     "output_type": "execute_result"
    }
   ],
   "source": [
    "list(map(square,x))"
   ]
  },
  {
   "cell_type": "code",
   "execution_count": 31,
   "id": "35fb782c",
   "metadata": {},
   "outputs": [
    {
     "name": "stdout",
     "output_type": "stream",
     "text": [
      "1\n"
     ]
    }
   ],
   "source": [
    "y=list([1,2,2,3,3,4])"
   ]
  },
  {
   "cell_type": "code",
   "execution_count": 43,
   "id": "2f35bd0a",
   "metadata": {},
   "outputs": [],
   "source": [
    "def duplicate_delete(lst):\n",
    "    if lst[0]==y.index(lst[1]):\n",
    "        print(lst[1])\n",
    "        \n",
    "    "
   ]
  },
  {
   "cell_type": "code",
   "execution_count": 44,
   "id": "7b4df9e1",
   "metadata": {},
   "outputs": [
    {
     "name": "stdout",
     "output_type": "stream",
     "text": [
      "1\n",
      "2\n",
      "3\n",
      "4\n"
     ]
    },
    {
     "data": {
      "text/plain": [
       "[]"
      ]
     },
     "execution_count": 44,
     "metadata": {},
     "output_type": "execute_result"
    }
   ],
   "source": [
    "list(filter(duplicate_delete,enumerate(y)))"
   ]
  },
  {
   "cell_type": "code",
   "execution_count": 45,
   "id": "742bcfc0",
   "metadata": {},
   "outputs": [
    {
     "data": {
      "text/plain": [
       "27"
      ]
     },
     "execution_count": 45,
     "metadata": {},
     "output_type": "execute_result"
    }
   ],
   "source": [
    "cube=lambda num:num*num*num\n",
    "cube(3)"
   ]
  },
  {
   "cell_type": "code",
   "execution_count": 47,
   "id": "8b983b57",
   "metadata": {},
   "outputs": [
    {
     "data": {
      "text/plain": [
       "[1000, 8000, 27000]"
      ]
     },
     "execution_count": 47,
     "metadata": {},
     "output_type": "execute_result"
    }
   ],
   "source": [
    "list(map(lambda num:num*num*num,x))"
   ]
  },
  {
   "cell_type": "code",
   "execution_count": 54,
   "id": "6edd6544",
   "metadata": {},
   "outputs": [
    {
     "data": {
      "text/plain": [
       "[(0, 1), (1, 2), (3, 3), (5, 4)]"
      ]
     },
     "execution_count": 54,
     "metadata": {},
     "output_type": "execute_result"
    }
   ],
   "source": [
    "list(filter(lambda num:num[0]==y.index(num[1]) and num[1],enumerate(y)))"
   ]
  },
  {
   "cell_type": "code",
   "execution_count": 55,
   "id": "be71b554",
   "metadata": {},
   "outputs": [],
   "source": [
    "x=10\n",
    "def check():\n",
    "    global x\n",
    "    print('value is {}'.format(x))\n",
    "    x=20\n",
    "    print('ReAssigned Value {}'.format(x))"
   ]
  },
  {
   "cell_type": "code",
   "execution_count": 56,
   "id": "8c381d0f",
   "metadata": {},
   "outputs": [
    {
     "name": "stdout",
     "output_type": "stream",
     "text": [
      "value is 10\n",
      "ReAssigned Value 20\n"
     ]
    }
   ],
   "source": [
    "check()"
   ]
  },
  {
   "cell_type": "code",
   "execution_count": 64,
   "id": "94b0a728",
   "metadata": {},
   "outputs": [
    {
     "name": "stdout",
     "output_type": "stream",
     "text": [
      "False\n"
     ]
    }
   ],
   "source": [
    "import string\n",
    "def ispangram(str1, alphabet=string.ascii_lowercase):\n",
    "    flag=False\n",
    "    for i in alphabet:\n",
    "        if i in str1:\n",
    "            flag=True\n",
    "            continue\n",
    "        else:\n",
    "            flag=False\n",
    "            break\n",
    "    if(flag==False):\n",
    "        print(False)\n",
    "    else:\n",
    "        print(True)\n",
    "# ispangram('','abcdefghijklmnopqrstuvwxyz')"
   ]
  },
  {
   "cell_type": "code",
   "execution_count": 65,
   "id": "110b32d0",
   "metadata": {},
   "outputs": [
    {
     "name": "stdout",
     "output_type": "stream",
     "text": [
      "True\n"
     ]
    }
   ],
   "source": [
    "ispangram(\"The quick brown fox jumps over the lazy dog\")"
   ]
  },
  {
   "cell_type": "code",
   "execution_count": null,
   "id": "ebbd7772",
   "metadata": {},
   "outputs": [],
   "source": []
  }
 ],
 "metadata": {
  "kernelspec": {
   "display_name": "Python 3 (ipykernel)",
   "language": "python",
   "name": "python3"
  },
  "language_info": {
   "codemirror_mode": {
    "name": "ipython",
    "version": 3
   },
   "file_extension": ".py",
   "mimetype": "text/x-python",
   "name": "python",
   "nbconvert_exporter": "python",
   "pygments_lexer": "ipython3",
   "version": "3.9.12"
  }
 },
 "nbformat": 4,
 "nbformat_minor": 5
}
